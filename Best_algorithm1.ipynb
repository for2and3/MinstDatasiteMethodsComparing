{
 "cells": [
  {
   "cell_type": "code",
   "execution_count": 1,
   "id": "3286d5ff",
   "metadata": {},
   "outputs": [],
   "source": [
    "import numpy as np \n",
    "import matplotlib.pyplot as plt\n",
    "\n",
    "from sklearn import metrics\n",
    "import seaborn as sns\n",
    "\n",
    "from struct import unpack\n",
    "import datetime\n",
    "from sklearn.model_selection import cross_val_score\n",
    "from sklearn.metrics import accuracy_score\n",
    "from sklearn.metrics import confusion_matrix\n",
    "from sklearn.metrics import recall_score\n",
    "from sklearn.metrics import precision_score\n",
    "\n",
    "import tensorflow as tf\n",
    "from tensorflow import keras\n",
    "\n",
    "from sklearn.model_selection import train_test_split\n",
    "from scikeras.wrappers import KerasClassifier"
   ]
  },
  {
   "cell_type": "code",
   "execution_count": 2,
   "id": "75c4b7fb",
   "metadata": {},
   "outputs": [],
   "source": [
    "def loadMnist(imagefile, labelfile):\n",
    "    images = open(imagefile, 'rb')\n",
    "    labels = open(labelfile, 'rb')\n",
    "    images.read(4)\n",
    "    number_of_images = images.read(4)\n",
    "    number_of_images = unpack('>I', number_of_images)[0]\n",
    "    rows = images.read(4)\n",
    "    rows = unpack('>I', rows)[0]\n",
    "    cols = images.read(4)\n",
    "    cols = unpack('>I', cols)[0]\n",
    "    labels.read(4)\n",
    "    N = labels.read(4)\n",
    "    N = unpack('>I', N)[0]\n",
    "    x = np.zeros((N, rows*cols), dtype=np.uint8)  # Initialize numpy array\n",
    "    y = np.zeros(N, dtype=np.uint8)  # Initialize numpy array\n",
    "    for i in range(N):\n",
    "        for j in range(rows*cols):\n",
    "            tmp_pixel = images.read(1)  # Just a single byte\n",
    "            tmp_pixel = unpack('>B', tmp_pixel)[0]\n",
    "            x[i][j] = tmp_pixel\n",
    "        tmp_label = labels.read(1)\n",
    "        y[i] = unpack('>B', tmp_label)[0]\n",
    "    images.close()\n",
    "    labels.close()\n",
    "    return (x, y)"
   ]
  },
  {
   "cell_type": "code",
   "execution_count": 3,
   "id": "a8ad127f",
   "metadata": {},
   "outputs": [],
   "source": [
    "TrainImg, TrainLb = loadMnist('data/train-images-idx3-ubyte'\n",
    "                                 , 'data/train-labels-idx1-ubyte')\n",
    "TestImg, TestLb = loadMnist('data/t10k-images-idx3-ubyte'\n",
    "                               , 'data/t10k-labels-idx1-ubyte')"
   ]
  },
  {
   "cell_type": "code",
   "execution_count": 4,
   "id": "1d95cf24",
   "metadata": {},
   "outputs": [],
   "source": [
    "TrainImg2 = TrainImg.reshape(60000,28,28)\n",
    "TestImg2 = TestImg.reshape(10000,28,28)"
   ]
  },
  {
   "cell_type": "code",
   "execution_count": 5,
   "id": "0f39061a",
   "metadata": {},
   "outputs": [],
   "source": [
    " def dataCropping(CropData,Length):\n",
    "    CropDataFinsh = np.empty([Length,20,20])\n",
    "    for i in range(Length):\n",
    "        Row = np.delete(CropData[i],[0,1,2,3,24,25,26,27],axis=0)\n",
    "        Column = np.delete(Row,[0,1,2,3,24,25,26,27],axis=1)\n",
    "        CropDataFinsh[i] = Column\n",
    "    return CropDataFinsh"
   ]
  },
  {
   "cell_type": "code",
   "execution_count": 7,
   "id": "1235020a",
   "metadata": {},
   "outputs": [],
   "source": [
    "TrainImgCrop2 = dataCropping(TrainImg2,60000)\n",
    "TestImgCrop2 = dataCropping(TestImg2,10000)\n",
    "TrainImgCrop = TrainImgCrop2.reshape(60000,400)\n",
    "TestImgCrop = TestImgCrop2.reshape(10000,400)"
   ]
  },
  {
   "cell_type": "code",
   "execution_count": 8,
   "id": "98450a6d",
   "metadata": {},
   "outputs": [],
   "source": [
    "TrainImgCrop2Tr, TrainImgCrop2Te, TrainLbTr, TrainLbTe = train_test_split(TrainImgCrop2, TrainLb, train_size=0.9)\n",
    "TrainImgCropNor2Tr = TrainImgCrop2Tr/255\n",
    "TrainImgCropNor2Te = TrainImgCrop2Te/255\n",
    "TrainImgCropNor2 = TrainImgCrop2/255\n",
    "TestImgCropNor2 = TestImgCrop2/255"
   ]
  },
  {
   "cell_type": "code",
   "execution_count": 9,
   "id": "2b597821",
   "metadata": {},
   "outputs": [],
   "source": [
    "BestModel = keras.models.Sequential([\n",
    "    keras.layers.Flatten(input_shape=[20, 20]),\n",
    "    keras.layers.Dense(400, activation=\"relu\"),\n",
    "    keras.layers.Dense(100, activation=\"relu\"),\n",
    "    keras.layers.Dense(10, activation=\"softmax\")\n",
    "])\n",
    "opt = keras.optimizers.SGD(learning_rate=0.4)\n",
    "BestModel.compile(loss='sparse_categorical_crossentropy',\n",
    "              optimizer=opt,\n",
    "              metrics=['accuracy'])"
   ]
  },
  {
   "cell_type": "code",
   "execution_count": 14,
   "id": "dbcd612d",
   "metadata": {},
   "outputs": [
    {
     "name": "stdout",
     "output_type": "stream",
     "text": [
      "Epoch 1/40\n",
      "1688/1688 [==============================] - 1s 837us/step - loss: 0.0042 - accuracy: 0.9987 - val_loss: 0.1401 - val_accuracy: 0.9795\n",
      "Epoch 2/40\n",
      "1688/1688 [==============================] - 1s 793us/step - loss: 0.0065 - accuracy: 0.9983 - val_loss: 0.1647 - val_accuracy: 0.9787\n",
      "Epoch 3/40\n",
      "1688/1688 [==============================] - 1s 795us/step - loss: 0.0094 - accuracy: 0.9974 - val_loss: 0.1620 - val_accuracy: 0.9793\n",
      "Epoch 4/40\n",
      "1688/1688 [==============================] - 1s 793us/step - loss: 0.0128 - accuracy: 0.9965 - val_loss: 0.1701 - val_accuracy: 0.9748\n",
      "Epoch 5/40\n",
      "1688/1688 [==============================] - 1s 792us/step - loss: 0.0142 - accuracy: 0.9962 - val_loss: 0.1561 - val_accuracy: 0.9770\n",
      "Epoch 6/40\n",
      "1688/1688 [==============================] - 1s 792us/step - loss: 0.0081 - accuracy: 0.9976 - val_loss: 0.1485 - val_accuracy: 0.9788\n",
      "Epoch 7/40\n",
      "1688/1688 [==============================] - 1s 793us/step - loss: 0.0157 - accuracy: 0.9960 - val_loss: 0.2046 - val_accuracy: 0.9737\n",
      "Epoch 8/40\n",
      "1688/1688 [==============================] - 1s 832us/step - loss: 0.0121 - accuracy: 0.9966 - val_loss: 0.1838 - val_accuracy: 0.9775\n",
      "Epoch 9/40\n",
      "1688/1688 [==============================] - 1s 796us/step - loss: 0.0064 - accuracy: 0.9981 - val_loss: 0.1544 - val_accuracy: 0.9802\n",
      "Epoch 10/40\n",
      "1688/1688 [==============================] - 1s 795us/step - loss: 0.0044 - accuracy: 0.9986 - val_loss: 0.1496 - val_accuracy: 0.9805\n",
      "Epoch 11/40\n",
      "1688/1688 [==============================] - 1s 797us/step - loss: 0.0086 - accuracy: 0.9977 - val_loss: 0.1700 - val_accuracy: 0.9810\n",
      "Epoch 12/40\n",
      "1688/1688 [==============================] - 1s 788us/step - loss: 0.0032 - accuracy: 0.9989 - val_loss: 0.1762 - val_accuracy: 0.9785\n",
      "Epoch 13/40\n",
      "1688/1688 [==============================] - 1s 851us/step - loss: 0.0079 - accuracy: 0.9979 - val_loss: 0.2249 - val_accuracy: 0.9730\n",
      "Epoch 14/40\n",
      "1688/1688 [==============================] - 1s 820us/step - loss: 0.0103 - accuracy: 0.9974 - val_loss: 0.1764 - val_accuracy: 0.9762\n",
      "Epoch 15/40\n",
      "1688/1688 [==============================] - 1s 795us/step - loss: 0.0075 - accuracy: 0.9981 - val_loss: 0.2449 - val_accuracy: 0.9703\n",
      "Epoch 16/40\n",
      "1688/1688 [==============================] - 1s 833us/step - loss: 0.0122 - accuracy: 0.9967 - val_loss: 0.1674 - val_accuracy: 0.9788\n",
      "Epoch 17/40\n",
      "1688/1688 [==============================] - 1s 813us/step - loss: 0.0057 - accuracy: 0.9982 - val_loss: 0.1646 - val_accuracy: 0.9805\n",
      "Epoch 18/40\n",
      "1688/1688 [==============================] - 1s 827us/step - loss: 0.0119 - accuracy: 0.9968 - val_loss: 0.1775 - val_accuracy: 0.9792\n",
      "Epoch 19/40\n",
      "1688/1688 [==============================] - 1s 826us/step - loss: 0.0118 - accuracy: 0.9972 - val_loss: 0.1797 - val_accuracy: 0.9780\n",
      "Epoch 20/40\n",
      "1688/1688 [==============================] - 1s 878us/step - loss: 0.0098 - accuracy: 0.9974 - val_loss: 0.1831 - val_accuracy: 0.9785\n",
      "Epoch 21/40\n",
      "1688/1688 [==============================] - 1s 888us/step - loss: 0.0067 - accuracy: 0.9981 - val_loss: 0.1670 - val_accuracy: 0.9818\n",
      "Epoch 22/40\n",
      "1688/1688 [==============================] - 1s 790us/step - loss: 0.0039 - accuracy: 0.9989 - val_loss: 0.1770 - val_accuracy: 0.9812\n",
      "Epoch 23/40\n",
      "1688/1688 [==============================] - 1s 797us/step - loss: 0.0093 - accuracy: 0.9979 - val_loss: 0.2041 - val_accuracy: 0.9747\n",
      "Epoch 24/40\n",
      "1688/1688 [==============================] - 1s 795us/step - loss: 0.0095 - accuracy: 0.9976 - val_loss: 0.1366 - val_accuracy: 0.9825\n",
      "Epoch 25/40\n",
      "1688/1688 [==============================] - 1s 787us/step - loss: 0.0071 - accuracy: 0.9980 - val_loss: 0.1896 - val_accuracy: 0.9783\n",
      "Epoch 26/40\n",
      "1688/1688 [==============================] - 1s 801us/step - loss: 0.0081 - accuracy: 0.9980 - val_loss: 0.1956 - val_accuracy: 0.9790\n",
      "Epoch 27/40\n",
      "1688/1688 [==============================] - 1s 795us/step - loss: 0.0075 - accuracy: 0.9981 - val_loss: 0.1723 - val_accuracy: 0.9803\n",
      "Epoch 28/40\n",
      "1688/1688 [==============================] - 1s 792us/step - loss: 0.0075 - accuracy: 0.9980 - val_loss: 0.2146 - val_accuracy: 0.9785\n",
      "Epoch 29/40\n",
      "1688/1688 [==============================] - 1s 794us/step - loss: 0.0101 - accuracy: 0.9977 - val_loss: 0.2018 - val_accuracy: 0.9782\n",
      "Epoch 30/40\n",
      "1688/1688 [==============================] - 1s 793us/step - loss: 0.0125 - accuracy: 0.9969 - val_loss: 0.1987 - val_accuracy: 0.9783\n",
      "Epoch 31/40\n",
      "1688/1688 [==============================] - 1s 809us/step - loss: 0.0089 - accuracy: 0.9976 - val_loss: 0.2289 - val_accuracy: 0.9795\n",
      "Epoch 32/40\n",
      "1688/1688 [==============================] - 1s 822us/step - loss: 0.0097 - accuracy: 0.9978 - val_loss: 0.2192 - val_accuracy: 0.9792\n",
      "Epoch 33/40\n",
      "1688/1688 [==============================] - 1s 790us/step - loss: 0.0072 - accuracy: 0.9984 - val_loss: 0.1998 - val_accuracy: 0.9810\n",
      "Epoch 34/40\n",
      "1688/1688 [==============================] - 1s 819us/step - loss: 0.0066 - accuracy: 0.9984 - val_loss: 0.1925 - val_accuracy: 0.9800\n",
      "Epoch 35/40\n",
      "1688/1688 [==============================] - 1s 787us/step - loss: 0.0078 - accuracy: 0.9981 - val_loss: 0.2508 - val_accuracy: 0.9793\n",
      "Epoch 36/40\n",
      "1688/1688 [==============================] - 1s 785us/step - loss: 0.0058 - accuracy: 0.9985 - val_loss: 0.2047 - val_accuracy: 0.9818\n",
      "Epoch 37/40\n",
      "1688/1688 [==============================] - 1s 788us/step - loss: 0.0051 - accuracy: 0.9989 - val_loss: 0.2506 - val_accuracy: 0.9792\n",
      "Epoch 38/40\n",
      "1688/1688 [==============================] - 1s 788us/step - loss: 0.0103 - accuracy: 0.9981 - val_loss: 0.2060 - val_accuracy: 0.9797\n",
      "Epoch 39/40\n",
      "1688/1688 [==============================] - 1s 795us/step - loss: 0.0093 - accuracy: 0.9978 - val_loss: 0.1837 - val_accuracy: 0.9830\n",
      "Epoch 40/40\n",
      "1688/1688 [==============================] - 1s 795us/step - loss: 0.0055 - accuracy: 0.9986 - val_loss: 0.1721 - val_accuracy: 0.9827\n",
      "the time of Best Model is 0:00:54.695472\n"
     ]
    }
   ],
   "source": [
    "starttime = datetime.datetime.now()\n",
    "BestModel.fit(TrainImgCropNor2Tr, TrainLbTr, epochs=40,validation_data=(TrainImgCropNor2Te, TrainLbTe))\n",
    "endtime = datetime.datetime.now()\n",
    "print(\"the time of Best Model is {}\".format( endtime - starttime))"
   ]
  },
  {
   "cell_type": "code",
   "execution_count": 15,
   "id": "362a53e7",
   "metadata": {},
   "outputs": [],
   "source": [
    "BestPreDou = BestModel.predict(TestImgCropNor2)"
   ]
  },
  {
   "cell_type": "code",
   "execution_count": 16,
   "id": "e528df64",
   "metadata": {},
   "outputs": [],
   "source": [
    "BestPre = np.empty([10000])\n",
    "for i in range(10000):\n",
    "    x = 0\n",
    "    for j in range(10):\n",
    "        if(x < BestPreDou[i][j]):\n",
    "            x = BestPreDou[i][j]\n",
    "            BestPre[i] = j"
   ]
  },
  {
   "cell_type": "code",
   "execution_count": 21,
   "id": "997e04c6",
   "metadata": {},
   "outputs": [
    {
     "name": "stdout",
     "output_type": "stream",
     "text": [
      "the best accuracy is 0.9848\n",
      "the best recall is 0.984755984639501\n",
      "the best precision is 0.9846442874137296\n",
      "[[ 976    0    2    1    1    2    5    1    1    2]\n",
      " [   1 1129    1    0    1    0    2    2    0    2]\n",
      " [   0    1 1014    1    2    0    1    7    3    0]\n",
      " [   0    1    2  996    0    6    1    1    3    4]\n",
      " [   0    0    1    0  964    1    6    0    3    7]\n",
      " [   0    1    0    3    0  876    2    0    2    1]\n",
      " [   1    1    2    0    2    2  940    0    3    1]\n",
      " [   1    1    4    4    2    1    0 1010    2    2]\n",
      " [   1    1    6    3    1    2    1    4  955    2]\n",
      " [   0    0    0    2    9    2    0    3    2  988]]\n"
     ]
    }
   ],
   "source": [
    "BestAcc = accuracy_score(BestPre,TestLb)\n",
    "print(\"the best accuracy is {}\".format(BestAcc))\n",
    "BestRec = recall_score(BestPre,TestLb,average='macro')\n",
    "print(\"the best recall is {}\".format(BestRec))\n",
    "BestPreci = precision_score(BestPre,TestLb,average='macro')\n",
    "print(\"the best precision is {}\".format(BestPreci))\n",
    "BestConMat = confusion_matrix(BestPre,TestLb)\n",
    "print(BestConMat)"
   ]
  },
  {
   "cell_type": "code",
   "execution_count": 24,
   "id": "84cf5af8",
   "metadata": {},
   "outputs": [],
   "source": [
    "#BestModel.save('Pretrained_model.h5')"
   ]
  }
 ],
 "metadata": {
  "kernelspec": {
   "display_name": "Python 3 (ipykernel)",
   "language": "python",
   "name": "python3"
  },
  "language_info": {
   "codemirror_mode": {
    "name": "ipython",
    "version": 3
   },
   "file_extension": ".py",
   "mimetype": "text/x-python",
   "name": "python",
   "nbconvert_exporter": "python",
   "pygments_lexer": "ipython3",
   "version": "3.9.12"
  }
 },
 "nbformat": 4,
 "nbformat_minor": 5
}
